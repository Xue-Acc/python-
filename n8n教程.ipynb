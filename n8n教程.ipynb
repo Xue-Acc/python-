{
 "cells": [
  {
   "cell_type": "markdown",
   "id": "e909faba",
   "metadata": {},
   "source": [
    "# 零基础安装 n8n（macOS）"
   ]
  },
  {
   "cell_type": "markdown",
   "id": "6ecfb140",
   "metadata": {},
   "source": [
    "**目标环境**  \n",
    "\n",
    "- **Node 20.19.3**（LTS）  \n",
    "\n",
    "- **Python 3.12.x**（自带 `distutils`）  \n",
    "\n",
    "- 全局 npm 前缀 `~/.npm-global`（免 sudo）  \n",
    "\n",
    "\n",
    "> ⚠️ *只复制灰框代码；每行回车后再执行下一行。*\n"
   ]
  },
  {
   "cell_type": "markdown",
   "id": "33ac4ed6",
   "metadata": {},
   "source": [
    "## 1 安装并切换到 Node 20.19.3"
   ]
  },
  {
   "cell_type": "code",
   "execution_count": 1,
   "id": "554feef9",
   "metadata": {},
   "outputs": [
    {
     "name": "stdout",
     "output_type": "stream",
     "text": [
      "  % Total    % Received % Xferd  Average Speed   Time    Time     Time  Current\n",
      "                                 Dload  Upload   Total   Spent    Left  Speed\n",
      "  4 16555    4   818    0     0      7      0  0:39:25  0:01:49  0:37:36     0\n",
      "curl: (56) Recv failure: Operation timed out\n",
      "bash: line 42: syntax error: unexpected end of file\n",
      "zsh:1: command not found: nvm\n",
      "zsh:1: command not found: nvm\n",
      "v20.11.1\n"
     ]
    }
   ],
   "source": [
    "# 安装 nvm（已有可跳过）\n",
    "!curl -o- https://raw.githubusercontent.com/nvm-sh/nvm/v0.39.7/install.sh | bash\n",
    "!source ~/.zshrc  # or ~/.bashrc\n",
    "\n",
    "# 安装并使用 Node 20.19.3\n",
    "!nvm install 20.19.3\n",
    "!nvm use 20.19.3\n",
    "!node -v"
   ]
  },
  {
   "cell_type": "markdown",
   "id": "72d9280b",
   "metadata": {},
   "source": [
    "## 2 安装官方 Python 3.12"
   ]
  },
  {
   "cell_type": "markdown",
   "id": "93e45946",
   "metadata": {},
   "source": [
    "1. 打开 <https://www.python.org/downloads/macos/>  \n",
    "\n",
    "2. 下载 **macOS 64‑bit universal2 installer (3.12.x)** 并双击安装  \n",
    "\n",
    "3. 完成后执行："
   ]
  },
  {
   "cell_type": "code",
   "execution_count": 2,
   "id": "9db2e235",
   "metadata": {},
   "outputs": [
    {
     "name": "stdout",
     "output_type": "stream",
     "text": [
      "Python 3.12.3\n"
     ]
    }
   ],
   "source": [
    "!echo 'export PATH=\"/usr/local/bin:$PATH\"' >> ~/.zshrc\n",
    "!source ~/.zshrc\n",
    "!python3.12 --version"
   ]
  },
  {
   "cell_type": "markdown",
   "id": "c8c366fa",
   "metadata": {},
   "source": [
    "## 3 把 npm 全局目录迁到家目录"
   ]
  },
  {
   "cell_type": "code",
   "execution_count": 3,
   "id": "59638d58",
   "metadata": {},
   "outputs": [],
   "source": [
    "!mkdir -p ~/.npm-global\n",
    "!npm config set prefix '~/.npm-global'\n",
    "!echo 'export PATH=\"$HOME/.npm-global/bin:$PATH\"' >> ~/.zshrc\n",
    "!source ~/.zshrc"
   ]
  },
  {
   "cell_type": "markdown",
   "id": "0d87f45a",
   "metadata": {},
   "source": [
    "## 4 修正权限并清缓存"
   ]
  },
  {
   "cell_type": "code",
   "execution_count": null,
   "id": "9a0ba855",
   "metadata": {},
   "outputs": [
    {
     "name": "stdout",
     "output_type": "stream",
     "text": [
      "Password:"
     ]
    }
   ],
   "source": [
    "!sudo chown -R $(whoami) ~/.npm ~/.npm-global ~/Library/Caches/node-gyp\n",
    "!npm cache clean --force"
   ]
  },
  {
   "cell_type": "markdown",
   "id": "eb7a541a",
   "metadata": {},
   "source": [
    "## 5 全局安装 n8n"
   ]
  },
  {
   "cell_type": "code",
   "execution_count": null,
   "id": "f2896e45",
   "metadata": {},
   "outputs": [],
   "source": [
    "!npm install -g n8n     # 若仍在系统前缀请改用 sudo + --unsafe-perm"
   ]
  },
  {
   "cell_type": "markdown",
   "id": "f3785937",
   "metadata": {},
   "source": [
    "## 6 启动 n8n （临时账号密码）"
   ]
  },
  {
   "cell_type": "code",
   "execution_count": null,
   "id": "c6edb393",
   "metadata": {},
   "outputs": [],
   "source": [
    "!export N8N_BASIC_AUTH_ACTIVE=true\n",
    "!export N8N_BASIC_AUTH_USER=admin\n",
    "!export N8N_BASIC_AUTH_PASSWORD=pass\n",
    "!n8n start"
   ]
  },
  {
   "cell_type": "markdown",
   "id": "7485e9e5",
   "metadata": {},
   "source": [
    "## 7 （可选）接入 MCP 工具 + Claude\n",
    "\n",
    "```bash\n",
    "python3.12 -m pip install mcp-server fastapi uvicorn\n",
    "# 编写并运行 weather_tool.py（监听 1337 端口）\n",
    "```\n",
    "\n",
    "在 n8n 画布中拖入 **Webhook → MCP Client Tool → Claude Agent → Respond** 四个节点，即可完成示例流程。"
   ]
  },
  {
   "cell_type": "code",
   "execution_count": null,
   "id": "f2dc37e9-54e0-40eb-9c36-6b1905880112",
   "metadata": {},
   "outputs": [],
   "source": []
  },
  {
   "cell_type": "code",
   "execution_count": null,
   "id": "2bddcf9b-a0f7-47a2-a2b9-77e12c2cd1c7",
   "metadata": {},
   "outputs": [],
   "source": []
  }
 ],
 "metadata": {
  "kernelspec": {
   "display_name": "Python 3 (ipykernel)",
   "language": "python",
   "name": "python3"
  },
  "language_info": {
   "codemirror_mode": {
    "name": "ipython",
    "version": 3
   },
   "file_extension": ".py",
   "mimetype": "text/x-python",
   "name": "python",
   "nbconvert_exporter": "python",
   "pygments_lexer": "ipython3",
   "version": "3.12.3"
  }
 },
 "nbformat": 4,
 "nbformat_minor": 5
}
