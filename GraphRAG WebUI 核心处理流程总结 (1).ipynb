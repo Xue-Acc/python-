{
 "cells": [
  {
   "cell_type": "code",
   "execution_count": null,
   "id": "5eeac524-b6de-47a9-9c1c-89b7c09a7a69",
   "metadata": {},
   "outputs": [],
   "source": [
    "# 📚 **GraphRAG WebUI 核心处理流程总结**\n",
    "\n",
    "## 🎯 **总体架构：process_a_project 函数的五步骤流程**\n",
    "\n",
    "```python\n",
    "def process_a_project(config: ArgConfig):\n",
    "    \"\"\"GraphRAG项目完整处理流程 - 5个核心步骤\"\"\"\n",
    "    try:\n",
    "        # step 1: upload files - 文件上传\n",
    "        upload_files(config.project, config.input_dir)\n",
    "\n",
    "        # step 2: generate data - 数据生成\n",
    "        generate_data(config.project, config.pdf_vision_option)\n",
    "        \n",
    "        # step 3: prompt tuning - 提示词调优 (异步)\n",
    "        asyncio.run(prompt_tuning(config.project))\n",
    "        \n",
    "        # step 4: build index - 构建索引 (同步)\n",
    "        build_index(config.project)\n",
    "        \n",
    "        # step 5: complete processing - 完成处理\n",
    "        return True\n",
    "    except Exception as e:\n",
    "        return False\n",
    "```\n",
    "\n",
    "---\n",
    "\n",
    "## 📁 **Step 1: upload_files() - 文件上传与目录准备**\n",
    "\n",
    "### **核心作用**\n",
    "- 接收用户文件并建立项目目录结构\n",
    "- `config.input_dir` 是用户文件的来源位置（不是存储位置）\n",
    "\n",
    "### **执行流程**\n",
    "```python\n",
    "def upload_files(project_name, input_dir):\n",
    "    # 1. 创建项目目录结构\n",
    "    projects/{project_name}/original/  # 原始文件备份\n",
    "    projects/{project_name}/input/     # 处理用的工作文件\n",
    "    \n",
    "    # 2. 清空现有目录内容\n",
    "    \n",
    "    # 3. 从用户目录复制文件到两个位置\n",
    "    for file in os.listdir(input_dir):  # 遍历用户指定目录\n",
    "        shutil.copy(源文件, original目录)  # 备份原始文件\n",
    "        shutil.copy(源文件, input目录)     # 工作副本\n",
    "        \n",
    "    # 4. 设置文件权限 (0o666)\n",
    "```\n",
    "\n",
    "### **文件流向图**\n",
    "```\n",
    "用户目录                    项目目录\n",
    "config.input_dir           projects/{name}/\n",
    "├── report.pdf      →     ├── original/\n",
    "├── data.xlsx             │   ├── report.pdf (备份)\n",
    "└── notes.txt             │   ├── data.xlsx  (备份)\n",
    "                          │   └── notes.txt  (备份)\n",
    "                          └── input/\n",
    "                              ├── report.pdf (处理用)\n",
    "                              ├── data.xlsx  (处理用)\n",
    "                              └── notes.txt  (处理用)\n",
    "```\n",
    "\n",
    "---\n",
    "\n",
    "## 🔄 **Step 2: generate_data() - 数据生成与转换**\n",
    "\n",
    "### **核心作用**\n",
    "- 将各种格式文件转换为GraphRAG可处理的文本格式\n",
    "- 支持Excel、PDF、MD、TXT等多种文件类型\n",
    "\n",
    "### **执行顺序** ⚠️ **重要：必须先预处理再转换**\n",
    "```python\n",
    "def generate_data(project_name, pdf_vision_option):\n",
    "    # 1. 清理工作环境\n",
    "    run_command(f\"rm -rf {project_dir}/input/*\")      # 清空input目录\n",
    "    run_command(f\"rm -rf {project_dir}/pdf_cache/*\")  # 清空PDF缓存\n",
    "    \n",
    "    # 2. 文件预处理 (prepare_file) - 先执行\n",
    "    for file in walk(f\"{project_dir}/original\"):\n",
    "        prepare_file(file_path, file, project_name)\n",
    "    \n",
    "    # 3. 文件转换 (convert_file) - 后执行\n",
    "    for file in walk(f\"{project_dir}/input\"):\n",
    "        convert_file(file_path, file, project_name, pdf_vision_option)\n",
    "```\n",
    "\n",
    "### **prepare_file() - 文件预处理**\n",
    "```python\n",
    "def prepare_file(file_path, file, project_name):\n",
    "    if file.endswith(\".xlsx\") or file.endswith(\".csv\"):\n",
    "        if has_download_files(file_path):  # 检查是否有doc_url列\n",
    "            download_files_from_xlsx_csv()  # 下载外部文件\n",
    "        else:\n",
    "            cp -r file_path input/         # 复制到input目录\n",
    "    \n",
    "    if file.endswith(\".txt\"):\n",
    "        cp -r file_path input/             # 直接复制\n",
    "        \n",
    "    if file.endswith(\".md\"):\n",
    "        cp -r file_path input/file.txt     # 重命名为.txt\n",
    "        \n",
    "    if file.endswith(\".pdf\"):\n",
    "        cp -r file_path input/             # 复制待处理\n",
    "```\n",
    "\n",
    "### **convert_file() - 格式转换**\n",
    "```python\n",
    "def convert_file(file_path, file, project_name, pdf_vision_option):\n",
    "    if file.endswith(\".xlsx\") or file.endswith(\".csv\"):\n",
    "        excel_to_txt(file_path, project_name)  # Excel转文本\n",
    "    \n",
    "    if file.endswith(\".pdf\"):\n",
    "        pdf_txt.save_pdf_pages_as_images()    # PDF AI视觉识别\n",
    "```\n",
    "\n",
    "### **关键命令解析**\n",
    "- **`rm -rf`**: 递归强制删除，清空目录内容\n",
    "- **`cp -r`**: 递归复制，支持文件和目录\n",
    "- **`-r`参数**: recursive（递归），具体行为取决于主命令\n",
    "\n",
    "---\n",
    "\n",
    "## 🤖 **Step 3: prompt_tuning() - AI提示词调优**\n",
    "\n",
    "### **核心作用**\n",
    "- 使用AI自动生成和优化GraphRAG的提示词\n",
    "- 为后续的实体提取、关系抽取等环节提供高质量提示词\n",
    "\n",
    "### **异步执行流程**\n",
    "```python\n",
    "async def prompt_tuning(project_name: str):\n",
    "    # 1. 调用GraphRAG API生成提示词 (异步操作)\n",
    "    (\n",
    "        entity_extraction_prompt,\n",
    "        entity_summarization_prompt,\n",
    "        community_summarization_prompt,\n",
    "    ) = await api.generate_indexing_prompts(config=load_config(), root=base_path)\n",
    "    \n",
    "    # 2. 修复错误提示词\n",
    "    entity_extraction_prompt = fix_wrong_prompt(entity_extraction_prompt)\n",
    "    \n",
    "    # 3. 并发写入三个提示词文件\n",
    "    await asyncio.gather(\n",
    "        write_prompt_file(\"prompts/entity_extraction.txt\", content1),\n",
    "        write_prompt_file(\"prompts/summarize_descriptions.txt\", content2),\n",
    "        write_prompt_file(\"prompts/community_report.txt\", content3)\n",
    "    )\n",
    "```\n",
    "\n",
    "### **为什么使用异步？**\n",
    "1. **AI API调用**: 网络IO密集型，等待时间长\n",
    "2. **并发文件写入**: 3个文件同时写入，提高效率\n",
    "3. **时间对比**:\n",
    "   - 同步方式: API时间 + 文件1时间 + 文件2时间 + 文件3时间\n",
    "   - 异步方式: API时间 + max(文件1,文件2,文件3时间)\n",
    "\n",
    "---\n",
    "\n",
    "## 🏗️ **Step 4: build_index() - 构建GraphRAG索引**\n",
    "\n",
    "### **核心作用**\n",
    "- 基于处理好的文本和AI提示词构建知识图谱索引\n",
    "- 生成实体、关系、社区等GraphRAG核心数据结构\n",
    "\n",
    "### **关键配置处理**\n",
    "```python\n",
    "def build_index(project_name: str):\n",
    "    # 1. 环境准备\n",
    "    load_dotenv(project/.env)                    # 加载项目环境变量\n",
    "    backup_file = settings.yaml.bak             # 备份配置文件\n",
    "    \n",
    "    # 2. 路径配置修改 (避免路径冲突)\n",
    "    settings['storage']['base_dir'] = 'output'   # 使用相对路径\n",
    "    settings['reporting']['base_dir'] = 'logs'   # 使用相对路径\n",
    "    settings['cache']['base_dir'] = 'cache'      # 使用相对路径\n",
    "    \n",
    "    # 3. 删除可能冲突的root_dir ⚠️ 重要！\n",
    "    if 'root_dir' in settings:\n",
    "        del settings['root_dir']                 # 清理旧路径信息\n",
    "    \n",
    "    # 4. 切换工作目录并执行索引构建\n",
    "    os.chdir(target_dir)                        # 切换到项目目录\n",
    "    index_cli(root_dir=Path(target_dir), ...)   # 明确指定根目录\n",
    "    \n",
    "    # 5. 恢复配置文件\n",
    "    shutil.copy2(backup_file, settings_file)    # 还原原始配置\n",
    "```\n",
    "\n",
    "### **root_dir 处理机制**\n",
    "**为什么删除 `root_dir`？**\n",
    "- **避免路径冲突**: 配置文件中的旧路径 vs 代码参数中的新路径\n",
    "- **确保路径正确**: GraphRAG只使用代码明确指定的项目路径\n",
    "- **消除二义性**: 防止GraphRAG在错误的目录下查找文件\n",
    "\n",
    "**路径解析逻辑**:\n",
    "```\n",
    "root_dir = \"/app/projects/my_project/\"  (代码指定)\n",
    "storage.base_dir = \"output\"             (配置文件)\n",
    "最终路径 = \"/app/projects/my_project/output/\"\n",
    "```\n",
    "在源代码中使用if 'root_dir' in settings:\n",
    "            del settings['root_dir']\n",
    "这段代码的作用是：\n",
    "清理冲突：删除配置文件中可能存在的旧 root_dir 设置\n",
    "避免混乱：确保 GraphRAG 只使用代码中明确指定的项目路径\n",
    "保证正确性：消除路径配置的二义性\n",
    "简单说就是：把配置文件中可能存在的旧路径信息删掉，确保 GraphRAG 使用当前正确的项目路径！\n",
    "\n",
    "---\n",
    "\n",
    "## ✅ **Step 5: 完成处理**\n",
    "\n",
    "### **成功标志**\n",
    "```python\n",
    "logger.info(f\"project {config.project} processed successfully\")\n",
    "return True  # 返回成功状态\n",
    "```\n",
    "\n",
    "### **异常处理机制**\n",
    "```python\n",
    "except Exception as e:\n",
    "    logger.error(f\"process project {config.project} failed: {e}\")\n",
    "    logger.debug(traceback.format_exc())  # 详细错误堆栈\n",
    "    return False  # 返回失败状态\n",
    "```\n",
    "\n",
    "---\n",
    "\n",
    "## 🎯 **核心设计亮点总结**\n",
    "\n",
    "### **1. 流水线设计**\n",
    "- 5个步骤顺序执行，职责分离\n",
    "- 每步都有明确的输入输出\n",
    "- 支持单步调试和错误定位\n",
    "\n",
    "### **2. 混合同步/异步**\n",
    "- **同步操作**: 文件处理、目录操作、索引构建\n",
    "- **异步操作**: AI API调用、并发文件写入\n",
    "- 根据操作特性选择最适合的执行方式\n",
    "\n",
    "### **3. 路径管理**\n",
    "- **备份机制**: original/ 目录保存原始文件\n",
    "- **工作隔离**: input/ 目录专门用于处理\n",
    "- **路径安全**: 通过删除root_dir避免路径冲突\n",
    "\n",
    "### **4. 错误恢复**\n",
    "- 配置文件自动备份和恢复\n",
    "- 详细的日志记录\n",
    "- 优雅的异常处理\n",
    "\n",
    "### **5. 多项目支持**\n",
    "- 每个项目独立的目录结构\n",
    "- 环境变量隔离\n",
    "- 配置文件独立管理\n",
    "\n",
    "---\n",
    "\n",
    "## 📊 **完整数据流向图**\n",
    "\n",
    "```\n",
    "用户文件 → upload_files → original/ + input/\n",
    "                            ↓\n",
    "                     generate_data (预处理 → 转换)\n",
    "                            ↓\n",
    "                      纯文本文件 (.txt)\n",
    "                            ↓\n",
    "                    prompt_tuning (AI生成提示词)\n",
    "                            ↓\n",
    "                      优化的提示词文件\n",
    "                            ↓\n",
    "                     build_index (构建知识图谱)\n",
    "                            ↓\n",
    "                    GraphRAG知识图谱索引\n",
    "                            ↓\n",
    "                        可查询的知识库\n",
    "```\n",
    "\n",
    "这个流程是GraphRAG WebUI的核心架构，实现了从原始文档到可查询知识图谱的完整转换过程！"
   ]
  }
 ],
 "metadata": {
  "kernelspec": {
   "display_name": "Python 3 (ipykernel)",
   "language": "python",
   "name": "python3"
  },
  "language_info": {
   "codemirror_mode": {
    "name": "ipython",
    "version": 3
   },
   "file_extension": ".py",
   "mimetype": "text/x-python",
   "name": "python",
   "nbconvert_exporter": "python",
   "pygments_lexer": "ipython3",
   "version": "3.12.3"
  }
 },
 "nbformat": 4,
 "nbformat_minor": 5
}


📋 .dockerignore 文件作用详解
.dockerignore 文件是 Docker 的配置文件，作用类似于 Git 的 .gitignore 文件，用于指定在构建 Docker 镜像时应该忽略的文件和目录。
🎯 核心作用
1. 减少构建上下文大小
Docker 构建时会将整个项目目录作为"构建上下文"发送给 Docker daemon
忽略不必要的文件可以显著减少传输数据量
加速镜像构建过程
2. 提高构建效率
避免将无用文件复制到镜像中
减少镜像体积
提升构建和部署速度
3. 增强安全性
防止敏感文件意外包含在镜像中
避免开发环境的配置泄露

app_manage.py 是 GraphRAG WebUI 的"控制中心"，负责：
🎨 用户界面 - 提供友好的 Web 管理界面
🔐 安全认证 - 控制用户访问权限
🗂️ 项目管理 - 创建、管理、测试项目
🔄 页面路由 - 根据URL参数导航到不同功能
这个文件是用户与 GraphRAG WebUI 系统交互的主要入口，通过 Streamlit 提供了直观的图形界面，让用户无需使用命令行就能完成所有项目管理任务。

deploy_api.sh 是 GraphRAG WebUI 的"云端API部署工具"，专门负责：
🎯 专用部署 - 专门部署FastAPI服务到Azure云端
📋 环境管理 - 自动加载和管理环境变量
🔧 配置隔离 - 独立于Web管理界面的API服务
🚀 生产就绪 - 支持自动伸缩和外部访问
🔄 CI/CD友好 - 易于集成到自动化流水线
使用场景：
将API服务独立部署到云端
为第三方应用提供GraphRAG查询接口
实现微服务架构的API层
支持高可用和自动伸缩的生产环境
这个脚本让GraphRAG WebUI的API服务能够作为独立的云端服务运行，为其他应用提供GraphRAG查询能力。

deploy_api.sh (API专用部署脚本)
    ↓
1. 加载环境变量 (.env)
2. 设置 DOCKER_FILE="Dockerfile.api"
3. 调用 deploy.sh (通用部署脚本)
    ↓
deploy.sh (通用Azure部署脚本)
    ↓
1. 创建Azure资源组
2. 创建Azure容器注册表
3. 创建容器应用环境
4. 构建Docker镜像
5. 推送镜像到ACR
6. 创建Azure Container App
7. 返回访问URL

deploy_api.sh 是 GraphRAG WebUI 的"云端API部署工具"，专门负责：
🎯 专用部署 - 专门部署FastAPI服务到Azure云端
📋 环境管理 - 自动加载和管理环境变量
🔧 配置隔离 - 独立于Web管理界面的API服务
🚀 生产就绪 - 支持自动伸缩和外部访问
🔄 CI/CD友好 - 易于集成到自动化流水线
使用场景：
将API服务独立部署到云端
为第三方应用提供GraphRAG查询接口
实现微服务架构的API层
支持高可用和自动伸缩的生产环境
这个脚本让GraphRAG WebUI的API服务能够作为独立的云端服务运行，为其他应用提供GraphRAG查询能力。
