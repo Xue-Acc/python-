{
 "cells": [
  {
   "cell_type": "markdown",
   "id": "9d710988",
   "metadata": {
    "lines_to_next_cell": 0
   },
   "source": [
    "# MCP 实际操作指南 - 5分钟快速体验\n",
    "\n",
    "这个指南将帮你在 5 分钟内实际体验 MCP 的核心功能。\n",
    "\n",
    "## 🎯 学习目标\n",
    "\n",
    "完成本指南后，你将：\n",
    "- 理解 MCP 的三个核心概念：工具、资源、提示\n",
    "- 成功运行一个 MCP 服务器\n",
    "- 在 Claude Desktop 中实际使用 MCP 功能\n",
    "- 看到 AI 如何通过 MCP 调用你的函数和访问数据\n",
    "\n",
    "## 📋 准备工作\n",
    "\n",
    "### 1. 检查环境"
   ]
  },
  {
   "cell_type": "code",
   "execution_count": null,
   "id": "deb7ba84",
   "metadata": {},
   "outputs": [],
   "source": [
    "# 确保你有 Python 3.8+\n",
    "python3 --version\n",
    "\n",
    "# 确保你有 pip\n",
    "pip3 --version"
   ]
  },
  {
   "cell_type": "markdown",
   "id": "880d8b2b",
   "metadata": {
    "lines_to_next_cell": 0
   },
   "source": [
    "### 2. 安装 MCP SDK"
   ]
  },
  {
   "cell_type": "code",
   "execution_count": null,
   "id": "a9fc6f74",
   "metadata": {},
   "outputs": [],
   "source": [
    "# 安装 MCP 库\n",
    "pip3 install mcp\n",
    "\n",
    "# 如果安装失败，尝试：\n",
    "pip3 install --user mcp"
   ]
  },
  {
   "cell_type": "markdown",
   "id": "129d2387",
   "metadata": {
    "lines_to_next_cell": 0
   },
   "source": [
    "## 🚀 第一步：运行你的第一个 MCP 服务器\n",
    "\n",
    "### 1. 启动服务器"
   ]
  },
  {
   "cell_type": "code",
   "execution_count": null,
   "id": "20a5f05b",
   "metadata": {},
   "outputs": [],
   "source": [
    "# 进入项目目录\n",
    "cd /Users/mr.x/Desktop/学习代码/crossboarder\n",
    "\n",
    "# 运行我们创建的简单 MCP 服务器\n",
    "python3 examples/hello_mcp.py"
   ]
  },
  {
   "cell_type": "markdown",
   "id": "9d8b2602",
   "metadata": {
    "lines_to_next_cell": 0
   },
   "source": [
    "你应该看到类似这样的输出：\n",
    "```\n",
    "🚀 Hello MCP 服务器启动中...\n",
    "==================================================\n",
    "📋 功能介绍：\n",
    "   🔧 工具：say_hello, get_time, add_numbers, create_task\n",
    "   📄 资源：info://server, data://sample, help://usage\n",
    "   💡 提示：friendly_assistant, task_manager\n",
    "==================================================\n",
    "🔗 下一步：配置 Claude Desktop 连接此服务器\n",
    "📚 使用说明：询问 Claude 读取 help://usage 资源\n",
    "==================================================\n",
    "```\n",
    "\n",
    "**保持这个终端窗口打开！** MCP 服务器需要一直运行。\n",
    "\n",
    "## 🔧 第二步：配置 Claude Desktop\n",
    "\n",
    "### 1. 找到配置文件位置\n",
    "根据你的操作系统：\n",
    "\n",
    "**macOS:**"
   ]
  },
  {
   "cell_type": "code",
   "execution_count": null,
   "id": "243da5e7",
   "metadata": {},
   "outputs": [],
   "source": [
    "mkdir -p \"$HOME/Library/Application Support/Claude\""
   ]
  },
  {
   "cell_type": "markdown",
   "id": "8ca9309d",
   "metadata": {
    "lines_to_next_cell": 0
   },
   "source": [
    "**Linux:**"
   ]
  },
  {
   "cell_type": "code",
   "execution_count": null,
   "id": "db78d718",
   "metadata": {},
   "outputs": [],
   "source": [
    "mkdir -p \"$HOME/.config/Claude\""
   ]
  },
  {
   "cell_type": "markdown",
   "id": "68fbd8c3",
   "metadata": {
    "lines_to_next_cell": 0
   },
   "source": [
    "**Windows:**"
   ]
  },
  {
   "cell_type": "code",
   "execution_count": null,
   "id": "cf39122d",
   "metadata": {},
   "outputs": [],
   "source": [
    "mkdir -p \"$APPDATA/Claude\""
   ]
  },
  {
   "cell_type": "markdown",
   "id": "92463d06",
   "metadata": {
    "lines_to_next_cell": 0
   },
   "source": [
    "### 2. 创建配置文件\n",
    "\n",
    "**macOS/Linux:**"
   ]
  },
  {
   "cell_type": "code",
   "execution_count": null,
   "id": "0f457963",
   "metadata": {},
   "outputs": [],
   "source": [
    "# macOS\n",
    "cat > \"$HOME/Library/Application Support/Claude/claude_desktop_config.json\" << 'EOF'\n",
    "{\n",
    "  \"mcpServers\": {\n",
    "    \"hello-mcp\": {\n",
    "      \"command\": \"python3\",\n",
    "      \"args\": [\"/Users/mr.x/Desktop/学习代码/crossboarder/examples/hello_mcp.py\"],\n",
    "      \"env\": {}\n",
    "    }\n",
    "  }\n",
    "}\n",
    "EOF\n",
    "\n",
    "# Linux\n",
    "cat > \"$HOME/.config/Claude/claude_desktop_config.json\" << 'EOF'\n",
    "{\n",
    "  \"mcpServers\": {\n",
    "    \"hello-mcp\": {\n",
    "      \"command\": \"python3\",\n",
    "      \"args\": [\"/Users/mr.x/Desktop/学习代码/crossboarder/examples/hello_mcp.py\"],\n",
    "      \"env\": {}\n",
    "    }\n",
    "  }\n",
    "}\n",
    "EOF"
   ]
  },
  {
   "cell_type": "markdown",
   "id": "9a806d75",
   "metadata": {
    "lines_to_next_cell": 0
   },
   "source": [
    "**重要：** 请将路径 `/Users/mr.x/Desktop/学习代码/crossboarder/examples/hello_mcp.py` 替换为你的实际文件路径。\n",
    "\n",
    "### 3. 重启 Claude Desktop\n",
    "关闭并重新打开 Claude Desktop 应用程序，让配置生效。\n",
    "\n",
    "## 🧪 第三步：测试 MCP 功能\n",
    "\n",
    "现在在 Claude Desktop 中尝试以下对话：\n",
    "\n",
    "### 测试 1：使用工具 (Tools)\n",
    "```\n",
    "请向\"小明\"问好\n",
    "```\n",
    "\n",
    "Claude 应该会：\n",
    "1. 调用 `say_hello` 工具\n",
    "2. 传入参数 `name=\"小明\"`\n",
    "3. 返回：你好，小明！欢迎使用 MCP！🎉\n",
    "\n",
    "### 测试 2：获取时间\n",
    "```\n",
    "现在几点了？\n",
    "```\n",
    "\n",
    "Claude 会调用 `get_time` 工具并返回当前时间。\n",
    "\n",
    "### 测试 3：数学计算\n",
    "```\n",
    "帮我计算 25 + 37\n",
    "```\n",
    "\n",
    "Claude 会使用 `add_numbers` 工具进行计算。\n",
    "\n",
    "### 测试 4：创建任务\n",
    "```\n",
    "创建一个高优先级任务：学习 MCP 协议\n",
    "```\n",
    "\n",
    "Claude 会调用 `create_task` 工具创建任务。\n",
    "\n",
    "### 测试 5：读取资源 (Resources)\n",
    "```\n",
    "请读取服务器信息\n",
    "```\n",
    "\n",
    "Claude 会访问 `info://server` 资源并显示服务器详细信息。\n",
    "\n",
    "### 测试 6：获取帮助\n",
    "```\n",
    "请显示使用说明\n",
    "```\n",
    "\n",
    "Claude 会读取 `help://usage` 资源显示完整的使用指南。\n",
    "\n",
    "### 测试 7：查看示例数据\n",
    "```\n",
    "显示示例数据中的用户信息\n",
    "```\n",
    "\n",
    "Claude 会读取 `data://sample` 资源并分析其中的数据。\n",
    "\n",
    "### 测试 8：使用提示模板\n",
    "```\n",
    "请使用友好助手的方式与我对话\n",
    "```\n",
    "\n",
    "Claude 会应用 `friendly_assistant` 提示模板。\n",
    "\n",
    "## 🎉 理解 MCP 的三个核心概念\n",
    "\n",
    "通过上面的测试，你已经体验了 MCP 的三个核心功能：\n",
    "\n",
    "### 1. 工具 (Tools) 🔧\n",
    "- **作用**：让 Claude 能够执行具体的操作\n",
    "- **例子**：`say_hello()`, `get_time()`, `add_numbers()`, `create_task()`\n",
    "- **特点**：Claude 可以调用这些函数并获得结果\n",
    "\n",
    "### 2. 资源 (Resources) 📄\n",
    "- **作用**：让 Claude 能够读取信息和数据\n",
    "- **例子**：`info://server`, `data://sample`, `help://usage`\n",
    "- **特点**：Claude 可以访问这些资源获取信息\n",
    "\n",
    "### 3. 提示 (Prompts) 💡\n",
    "- **作用**：为 Claude 提供可重用的行为模板\n",
    "- **例子**：`friendly_assistant`, `task_manager`\n",
    "- **特点**：定义 Claude 的行为方式和回答风格\n",
    "\n",
    "## 🔍 深入理解\n",
    "\n",
    "### MCP 的工作流程：\n",
    "1. **你的应用/服务** 创建 MCP 服务器，定义工具、资源和提示\n",
    "2. **Claude Desktop** 连接到 MCP 服务器\n",
    "3. **用户** 在 Claude 中提出请求\n",
    "4. **Claude** 分析请求，决定是否需要使用 MCP 功能\n",
    "5. **Claude** 调用相应的工具或访问资源\n",
    "6. **MCP 服务器** 执行操作并返回结果\n",
    "7. **Claude** 将结果整合到回答中\n",
    "\n",
    "### MCP 的优势：\n",
    "- **标准化**：统一的协议，不同工具可以无缝集成\n",
    "- **安全性**：用户完全控制哪些工具可以被访问\n",
    "- **灵活性**：可以轻松添加新功能\n",
    "- **实时性**：实时数据访问和操作\n",
    "\n",
    "## 🛠️ 自定义你的 MCP 服务器\n",
    "\n",
    "现在你可以修改 `examples/hello_mcp.py`，添加你自己的功能：\n",
    "\n",
    "### 添加新工具："
   ]
  },
  {
   "cell_type": "code",
   "execution_count": null,
   "id": "f07f37dc",
   "metadata": {},
   "outputs": [],
   "source": [
    "%%python\n",
    "@mcp.tool()\n",
    "def your_custom_function(param: str) -> str:\n",
    "    \"\"\"你的自定义功能描述\"\"\"\n",
    "    # 你的代码逻辑\n",
    "    return f\"处理结果：{param}\""
   ]
  },
  {
   "cell_type": "markdown",
   "id": "7eeaa9a9",
   "metadata": {
    "lines_to_next_cell": 0
   },
   "source": [
    "### 添加新资源："
   ]
  },
  {
   "cell_type": "code",
   "execution_count": null,
   "id": "4dbf837a",
   "metadata": {},
   "outputs": [],
   "source": [
    "%%python\n",
    "@mcp.resource(\"your://resource\")\n",
    "def your_custom_resource() -> str:\n",
    "    \"\"\"返回你的自定义数据\"\"\"\n",
    "    return \"你的数据内容\""
   ]
  },
  {
   "cell_type": "markdown",
   "id": "193d47d2",
   "metadata": {
    "lines_to_next_cell": 0
   },
   "source": [
    "### 添加新提示："
   ]
  },
  {
   "cell_type": "code",
   "execution_count": null,
   "id": "a9206b77",
   "metadata": {},
   "outputs": [],
   "source": [
    "%%python\n",
    "@mcp.prompt(\"your_prompt\")\n",
    "def your_custom_prompt() -> str:\n",
    "    \"\"\"你的自定义提示模板\"\"\"\n",
    "    return \"你的提示内容\""
   ]
  },
  {
   "cell_type": "markdown",
   "id": "1cb147d4",
   "metadata": {
    "lines_to_next_cell": 0
   },
   "source": [
    "## 🎯 下一步\n",
    "\n",
    "1. **尝试修改代码**：在 `hello_mcp.py` 中添加你自己的功能\n",
    "2. **学习更多**：查看 `n8n_mcp_claude_tutorial.md` 了解完整教程\n",
    "3. **实际应用**：思考如何在你的项目中使用 MCP\n",
    "4. **社区交流**：参与 MCP 社区讨论\n",
    "\n",
    "## 🐛 常见问题\n",
    "\n",
    "### Q: Claude 看不到我的 MCP 服务器\n",
    "**A**: 检查：\n",
    "- MCP 服务器是否正在运行\n",
    "- 配置文件路径是否正确\n",
    "- 是否重启了 Claude Desktop\n",
    "\n",
    "### Q: 工具调用失败\n",
    "**A**: 检查：\n",
    "- Python 代码是否有语法错误\n",
    "- 服务器终端是否显示错误信息\n",
    "- 函数参数类型是否正确\n",
    "\n",
    "### Q: 无法安装 mcp 库\n",
    "**A**: 尝试："
   ]
  },
  {
   "cell_type": "code",
   "execution_count": null,
   "id": "a58dcfb8",
   "metadata": {},
   "outputs": [],
   "source": [
    "pip3 install --user mcp\n",
    "# 或者\n",
    "python3 -m pip install mcp"
   ]
  },
  {
   "cell_type": "markdown",
   "id": "9b96c708",
   "metadata": {
    "lines_to_next_cell": 0
   },
   "source": [
    "### Q: 权限错误\n",
    "**A**: "
   ]
  },
  {
   "cell_type": "code",
   "execution_count": null,
   "id": "060ca7f3",
   "metadata": {},
   "outputs": [],
   "source": [
    "chmod +x examples/hello_mcp.py"
   ]
  },
  {
   "cell_type": "markdown",
   "id": "3e59d1bc",
   "metadata": {},
   "source": [
    "## 🎉 恭喜！\n",
    "\n",
    "你已经成功体验了 MCP 的核心功能！现在你理解了：\n",
    "- 如何创建 MCP 服务器\n",
    "- 如何配置 Claude Desktop\n",
    "- 如何在 Claude 中使用 MCP 功能\n",
    "- MCP 的三个核心概念：工具、资源、提示\n",
    "\n",
    "继续探索 MCP 的更多可能性吧！🚀 "
   ]
  }
 ],
 "metadata": {
  "jupytext": {
   "cell_metadata_filter": "-all",
   "main_language": "bash",
   "notebook_metadata_filter": "-all"
  }
 },
 "nbformat": 4,
 "nbformat_minor": 5
}
